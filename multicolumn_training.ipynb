{
 "cells": [
  {
   "cell_type": "markdown",
   "metadata": {},
   "source": [
    "## This is simple training code for Tensorflow [Multicolumn networks for face recognition](https://arxiv.org/abs/1807.09192) implementation"
   ]
  },
  {
   "cell_type": "code",
   "execution_count": 1,
   "metadata": {},
   "outputs": [],
   "source": [
    "import os\n",
    "import sys\n",
    "import importlib\n",
    "import numpy as np\n",
    "import pandas as pd\n",
    "import tensorflow as tf\n",
    "\n",
    "import dataset\n",
    "import input_pipeline\n",
    "from evaluation import evaluate"
   ]
  },
  {
   "cell_type": "markdown",
   "metadata": {},
   "source": [
    "### You can download train data from [competition site](https://competition.machinescansee.com/#/task_description)\n",
    "\n",
    "### You should create hold-out validation set with split_train_data.py script"
   ]
  },
  {
   "cell_type": "code",
   "execution_count": 2,
   "metadata": {},
   "outputs": [],
   "source": [
    "#Path to split_train_data.py output directory\n",
    "base_dir = '/mnt/data/Datasets/mcs2019/sets/'"
   ]
  },
  {
   "cell_type": "code",
   "execution_count": 3,
   "metadata": {},
   "outputs": [],
   "source": [
    "dev_set = dataset.read_dataset_from_file(os.path.join(base_dir, 'dev.csv'),\n",
    "                                           os.path.join(base_dir, 'dev_gt.csv'))\n",
    "dev_descr_arr = np.load(os.path.join(base_dir, 'dev_emb.npy'))\n",
    "dev_gt_descr_arr = np.load(os.path.join(base_dir, 'dev_gt_emb.npy'))"
   ]
  },
  {
   "cell_type": "code",
   "execution_count": 4,
   "metadata": {},
   "outputs": [],
   "source": [
    "train_set = dataset.read_dataset_from_file(os.path.join(base_dir, 'train.csv'),\n",
    "                                           os.path.join(base_dir, 'train_gt.csv'))\n",
    "train_descr_arr = np.load(os.path.join(base_dir, 'train_emb.npy'))\n",
    "train_gt_descr_arr = np.load(os.path.join(base_dir, 'train_gt_emb.npy'))"
   ]
  },
  {
   "cell_type": "markdown",
   "metadata": {},
   "source": [
    "### Model performance can be significantly improved with standard  normalization"
   ]
  },
  {
   "cell_type": "code",
   "execution_count": 5,
   "metadata": {},
   "outputs": [],
   "source": [
    "mean = np.mean(train_descr_arr, axis=0)\n",
    "std = np.std(train_descr_arr, axis=0)"
   ]
  },
  {
   "cell_type": "code",
   "execution_count": 6,
   "metadata": {},
   "outputs": [],
   "source": [
    "np.save('models/mean.npy', mean)\n",
    "np.save('models/std.npy', std)"
   ]
  },
  {
   "cell_type": "markdown",
   "metadata": {},
   "source": [
    "### Create model"
   ]
  },
  {
   "cell_type": "code",
   "execution_count": 7,
   "metadata": {},
   "outputs": [],
   "source": [
    "combinations_per_person = 3\n",
    "combination_size = 3\n",
    "combinations_per_batch = 64\n",
    "num_classes = len(train_set)\n",
    "embedding_size = train_descr_arr.shape[1]\n",
    "model_def = 'models.multicolumn'"
   ]
  },
  {
   "cell_type": "code",
   "execution_count": 8,
   "metadata": {},
   "outputs": [],
   "source": [
    "# Import network module\n",
    "network_module = importlib.import_module(model_def)"
   ]
  },
  {
   "cell_type": "code",
   "execution_count": null,
   "metadata": {},
   "outputs": [],
   "source": [
    "__embeddings, __labels = input_pipeline.__create_pipelnine(train_set, \n",
    "                                                           train_descr_arr,\n",
    "                                                           combinations_per_person, \n",
    "                                                           combination_size,\n",
    "                                                           combinations_per_batch,\n",
    "                                                           buffer_size=1)"
   ]
  },
  {
   "cell_type": "code",
   "execution_count": null,
   "metadata": {},
   "outputs": [],
   "source": [
    "__aggregated_embeddings, __aggregated_embedding, __gamma = network_module.create_model(__embeddings, \n",
    "                                                                                       embedding_size, \n",
    "                                                                                       combination_size)"
   ]
  },
  {
   "cell_type": "markdown",
   "metadata": {},
   "source": [
    "### Create loss tensor and train operation"
   ]
  },
  {
   "cell_type": "code",
   "execution_count": 11,
   "metadata": {},
   "outputs": [],
   "source": [
    "with tf.variable_scope('classification-head'):\n",
    "    __logits = tf.layers.dense(__aggregated_embeddings, num_classes, \n",
    "                               name='fc1', \n",
    "                               activation=None, \n",
    "                               use_bias=False, \n",
    "                               kernel_initializer=tf.initializers.random_normal(stddev=0.01))\n",
    "    __cross_entropy_loss = tf.nn.sparse_softmax_cross_entropy_with_logits(labels=__labels, logits=__logits)\n",
    "    __cross_entropy_loss = tf.reduce_mean(__cross_entropy_loss, name='cross_entropy_loss')"
   ]
  },
  {
   "cell_type": "code",
   "execution_count": 12,
   "metadata": {},
   "outputs": [],
   "source": [
    "__global_step = tf.Variable(0, trainable=False)\n",
    "__learning_rate = tf.placeholder(tf.float32, name='learning_rate')\n",
    "optimizer = tf.train.MomentumOptimizer(__learning_rate, 0.9, use_nesterov=True)\n",
    "__grads_and_vars = optimizer.compute_gradients(__cross_entropy_loss, tf.trainable_variables())\n",
    "__train_op = optimizer.apply_gradients(__grads_and_vars, global_step=__global_step)"
   ]
  },
  {
   "cell_type": "code",
   "execution_count": 13,
   "metadata": {},
   "outputs": [],
   "source": [
    "# It's time to start Tensorlow session and run operations on the Graph.\n",
    "gpu_options = tf.GPUOptions(per_process_gpu_memory_fraction=0.5)\n",
    "config=tf.ConfigProto(gpu_options=gpu_options)\n",
    "config.gpu_options.allow_growth = True\n",
    "session = tf.Session(config=config)\n",
    "\n",
    "#__phase_train should be True for correct layer initialization\n",
    "session.run(tf.global_variables_initializer())\n",
    "session.run(tf.local_variables_initializer())"
   ]
  },
  {
   "cell_type": "markdown",
   "metadata": {},
   "source": [
    "### Evaluate randomly initialized multicolumn network"
   ]
  },
  {
   "cell_type": "code",
   "execution_count": 14,
   "metadata": {},
   "outputs": [],
   "source": [
    "required_fpr = 10e-6"
   ]
  },
  {
   "cell_type": "code",
   "execution_count": 15,
   "metadata": {},
   "outputs": [
    {
     "name": "stderr",
     "output_type": "stream",
     "text": [
      "100%|██████████| 233/233 [00:07<00:00, 29.73it/s]\n"
     ]
    },
    {
     "name": "stdout",
     "output_type": "stream",
     "text": [
      "Negative pair count:  4556480\n",
      "Positive pair count:  19640\n",
      "score 1 (tpr@fpr=1e-05): 0.5640 score 2 (mean distance): 0.8204\n",
      "CPU times: user 11.3 s, sys: 1.27 s, total: 12.6 s\n",
      "Wall time: 9.85 s\n"
     ]
    }
   ],
   "source": [
    "%%time\n",
    "tpr, mean = evaluate(session, \n",
    "                     __embeddings, \n",
    "                     __gamma,                      \n",
    "                     person_set=dev_set, \n",
    "                     embeddings=dev_descr_arr, \n",
    "                     gt_embeddings=dev_gt_descr_arr, \n",
    "                     required_fpr=required_fpr)\n",
    "print('score 1 (tpr@fpr={2}): {0:.4f} score 2 (mean distance): {1:.4f}'.format(tpr, mean, required_fpr)) "
   ]
  },
  {
   "cell_type": "markdown",
   "metadata": {},
   "source": [
    "### Train network and evaluate results"
   ]
  },
  {
   "cell_type": "code",
   "execution_count": 16,
   "metadata": {
    "scrolled": true
   },
   "outputs": [
    {
     "name": "stdout",
     "output_type": "stream",
     "text": [
      "Step: [100]\tCross entropy loss 6.549\n",
      "Step: [200]\tCross entropy loss 6.541\n",
      "Step: [300]\tCross entropy loss 6.534\n",
      "Step: [400]\tCross entropy loss 6.529\n",
      "Step: [500]\tCross entropy loss 6.522\n",
      "Step: [600]\tCross entropy loss 6.514\n",
      "Step: [700]\tCross entropy loss 6.507\n",
      "Step: [800]\tCross entropy loss 6.499\n",
      "Step: [900]\tCross entropy loss 6.492\n"
     ]
    },
    {
     "name": "stderr",
     "output_type": "stream",
     "text": [
      "  1%|          | 2/233 [00:00<00:12, 18.89it/s]"
     ]
    },
    {
     "name": "stdout",
     "output_type": "stream",
     "text": [
      "Step: [1000]\tCross entropy loss 6.489\n"
     ]
    },
    {
     "name": "stderr",
     "output_type": "stream",
     "text": [
      "100%|██████████| 233/233 [00:14<00:00,  9.32it/s]\n"
     ]
    },
    {
     "name": "stdout",
     "output_type": "stream",
     "text": [
      "Negative pair count:  4556480\n",
      "Positive pair count:  19640\n",
      "score 1 (tpr@fpr=1e-05): 0.5785 score 2 (mean distance): 0.8202\n",
      "Step: [1100]\tCross entropy loss 6.483\n",
      "Step: [1200]\tCross entropy loss 6.472\n",
      "Step: [1300]\tCross entropy loss 6.465\n",
      "Step: [1400]\tCross entropy loss 6.457\n",
      "Step: [1500]\tCross entropy loss 6.458\n",
      "Step: [1600]\tCross entropy loss 6.449\n",
      "Step: [1700]\tCross entropy loss 6.442\n",
      "Step: [1800]\tCross entropy loss 6.437\n",
      "Step: [1900]\tCross entropy loss 6.426\n"
     ]
    },
    {
     "name": "stderr",
     "output_type": "stream",
     "text": [
      "  1%|          | 2/233 [00:00<00:12, 18.05it/s]"
     ]
    },
    {
     "name": "stdout",
     "output_type": "stream",
     "text": [
      "Step: [2000]\tCross entropy loss 6.417\n"
     ]
    },
    {
     "name": "stderr",
     "output_type": "stream",
     "text": [
      "100%|██████████| 233/233 [00:13<00:00, 17.42it/s]\n"
     ]
    },
    {
     "name": "stdout",
     "output_type": "stream",
     "text": [
      "Negative pair count:  4556480\n",
      "Positive pair count:  19640\n",
      "score 1 (tpr@fpr=1e-05): 0.6106 score 2 (mean distance): 0.8198\n",
      "Step: [2100]\tCross entropy loss 6.406\n",
      "Step: [2200]\tCross entropy loss 6.409\n",
      "Step: [2300]\tCross entropy loss 6.398\n",
      "Step: [2400]\tCross entropy loss 6.396\n",
      "Step: [2500]\tCross entropy loss 6.385\n",
      "Step: [2600]\tCross entropy loss 6.372\n",
      "Step: [2700]\tCross entropy loss 6.366\n",
      "Step: [2800]\tCross entropy loss 6.359\n",
      "Step: [2900]\tCross entropy loss 6.346\n"
     ]
    },
    {
     "name": "stderr",
     "output_type": "stream",
     "text": [
      "  1%|          | 2/233 [00:00<00:11, 19.71it/s]"
     ]
    },
    {
     "name": "stdout",
     "output_type": "stream",
     "text": [
      "Step: [3000]\tCross entropy loss 6.352\n"
     ]
    },
    {
     "name": "stderr",
     "output_type": "stream",
     "text": [
      "100%|██████████| 233/233 [00:12<00:00, 24.19it/s]\n"
     ]
    },
    {
     "name": "stdout",
     "output_type": "stream",
     "text": [
      "Negative pair count:  4556480\n",
      "Positive pair count:  19640\n",
      "score 1 (tpr@fpr=1e-05): 0.6514 score 2 (mean distance): 0.8197\n",
      "Step: [3100]\tCross entropy loss 6.343\n",
      "Step: [3200]\tCross entropy loss 6.341\n",
      "Step: [3300]\tCross entropy loss 6.334\n",
      "Step: [3400]\tCross entropy loss 6.324\n",
      "Step: [3500]\tCross entropy loss 6.317\n",
      "Step: [3600]\tCross entropy loss 6.305\n",
      "Step: [3700]\tCross entropy loss 6.299\n",
      "Step: [3800]\tCross entropy loss 6.285\n",
      "Step: [3900]\tCross entropy loss 6.287\n"
     ]
    },
    {
     "name": "stderr",
     "output_type": "stream",
     "text": [
      "  1%|▏         | 3/233 [00:00<00:11, 20.68it/s]"
     ]
    },
    {
     "name": "stdout",
     "output_type": "stream",
     "text": [
      "Step: [4000]\tCross entropy loss 6.289\n"
     ]
    },
    {
     "name": "stderr",
     "output_type": "stream",
     "text": [
      "100%|██████████| 233/233 [00:13<00:00, 17.29it/s]\n"
     ]
    },
    {
     "name": "stdout",
     "output_type": "stream",
     "text": [
      "Negative pair count:  4556480\n",
      "Positive pair count:  19640\n",
      "score 1 (tpr@fpr=1e-05): 0.6820 score 2 (mean distance): 0.8200\n",
      "Step: [4100]\tCross entropy loss 6.282\n",
      "Step: [4200]\tCross entropy loss 6.261\n",
      "Step: [4300]\tCross entropy loss 6.257\n",
      "Step: [4400]\tCross entropy loss 6.255\n",
      "Step: [4500]\tCross entropy loss 6.236\n",
      "Step: [4600]\tCross entropy loss 6.248\n",
      "Step: [4700]\tCross entropy loss 6.211\n",
      "Step: [4800]\tCross entropy loss 6.216\n",
      "Step: [4900]\tCross entropy loss 6.211\n"
     ]
    },
    {
     "name": "stderr",
     "output_type": "stream",
     "text": [
      "  1%|▏         | 3/233 [00:00<00:11, 19.43it/s]"
     ]
    },
    {
     "name": "stdout",
     "output_type": "stream",
     "text": [
      "Step: [5000]\tCross entropy loss 6.203\n"
     ]
    },
    {
     "name": "stderr",
     "output_type": "stream",
     "text": [
      "100%|██████████| 233/233 [00:11<00:00, 19.51it/s]\n"
     ]
    },
    {
     "name": "stdout",
     "output_type": "stream",
     "text": [
      "Negative pair count:  4556480\n",
      "Positive pair count:  19640\n",
      "score 1 (tpr@fpr=1e-05): 0.7154 score 2 (mean distance): 0.8206\n",
      "Step: [5100]\tCross entropy loss 6.210\n",
      "Step: [5200]\tCross entropy loss 6.196\n",
      "Step: [5300]\tCross entropy loss 6.206\n",
      "Step: [5400]\tCross entropy loss 6.164\n",
      "Step: [5500]\tCross entropy loss 6.166\n",
      "Step: [5600]\tCross entropy loss 6.164\n",
      "Step: [5700]\tCross entropy loss 6.151\n",
      "Step: [5800]\tCross entropy loss 6.149\n",
      "Step: [5900]\tCross entropy loss 6.142\n"
     ]
    },
    {
     "name": "stderr",
     "output_type": "stream",
     "text": [
      "  1%|          | 2/233 [00:00<00:11, 19.34it/s]"
     ]
    },
    {
     "name": "stdout",
     "output_type": "stream",
     "text": [
      "Step: [6000]\tCross entropy loss 6.148\n"
     ]
    },
    {
     "name": "stderr",
     "output_type": "stream",
     "text": [
      "100%|██████████| 233/233 [00:12<00:00, 19.35it/s]\n"
     ]
    },
    {
     "name": "stdout",
     "output_type": "stream",
     "text": [
      "Negative pair count:  4556480\n",
      "Positive pair count:  19640\n",
      "score 1 (tpr@fpr=1e-05): 0.7235 score 2 (mean distance): 0.8213\n",
      "Step: [6100]\tCross entropy loss 6.137\n",
      "Step: [6200]\tCross entropy loss 6.116\n",
      "Step: [6300]\tCross entropy loss 6.142\n",
      "Step: [6400]\tCross entropy loss 6.099\n",
      "Step: [6500]\tCross entropy loss 6.100\n",
      "Step: [6600]\tCross entropy loss 6.105\n",
      "Step: [6700]\tCross entropy loss 6.105\n",
      "Step: [6800]\tCross entropy loss 6.072\n",
      "Step: [6900]\tCross entropy loss 6.083\n"
     ]
    },
    {
     "name": "stderr",
     "output_type": "stream",
     "text": [
      "  1%|          | 2/233 [00:00<00:12, 18.69it/s]"
     ]
    },
    {
     "name": "stdout",
     "output_type": "stream",
     "text": [
      "Step: [7000]\tCross entropy loss 6.063\n"
     ]
    },
    {
     "name": "stderr",
     "output_type": "stream",
     "text": [
      "100%|██████████| 233/233 [00:13<00:00, 16.77it/s]\n"
     ]
    },
    {
     "name": "stdout",
     "output_type": "stream",
     "text": [
      "Negative pair count:  4556480\n",
      "Positive pair count:  19640\n",
      "score 1 (tpr@fpr=1e-05): 0.7332 score 2 (mean distance): 0.8221\n",
      "Step: [7100]\tCross entropy loss 6.070\n",
      "Step: [7200]\tCross entropy loss 6.056\n",
      "Step: [7300]\tCross entropy loss 6.046\n",
      "Step: [7400]\tCross entropy loss 6.046\n",
      "Step: [7500]\tCross entropy loss 6.067\n",
      "Step: [7600]\tCross entropy loss 6.019\n",
      "Step: [7700]\tCross entropy loss 6.040\n",
      "Step: [7800]\tCross entropy loss 6.007\n",
      "Step: [7900]\tCross entropy loss 6.000\n"
     ]
    },
    {
     "name": "stderr",
     "output_type": "stream",
     "text": [
      "  1%|▏         | 3/233 [00:00<00:11, 20.63it/s]"
     ]
    },
    {
     "name": "stdout",
     "output_type": "stream",
     "text": [
      "Step: [8000]\tCross entropy loss 6.010\n"
     ]
    },
    {
     "name": "stderr",
     "output_type": "stream",
     "text": [
      "100%|██████████| 233/233 [00:13<00:00, 16.73it/s]\n"
     ]
    },
    {
     "name": "stdout",
     "output_type": "stream",
     "text": [
      "Negative pair count:  4556480\n",
      "Positive pair count:  19640\n",
      "score 1 (tpr@fpr=1e-05): 0.7394 score 2 (mean distance): 0.8229\n",
      "Step: [8100]\tCross entropy loss 5.991\n",
      "Step: [8200]\tCross entropy loss 5.997\n",
      "Step: [8300]\tCross entropy loss 5.961\n",
      "Step: [8400]\tCross entropy loss 5.943\n",
      "Step: [8500]\tCross entropy loss 5.970\n",
      "Step: [8600]\tCross entropy loss 5.953\n",
      "Step: [8700]\tCross entropy loss 5.970\n",
      "Step: [8800]\tCross entropy loss 5.955\n",
      "Step: [8900]\tCross entropy loss 5.981\n"
     ]
    },
    {
     "name": "stderr",
     "output_type": "stream",
     "text": [
      "  1%|▏         | 3/233 [00:00<00:11, 20.82it/s]"
     ]
    },
    {
     "name": "stdout",
     "output_type": "stream",
     "text": [
      "Step: [9000]\tCross entropy loss 5.949\n"
     ]
    },
    {
     "name": "stderr",
     "output_type": "stream",
     "text": [
      "100%|██████████| 233/233 [00:12<00:00, 18.85it/s]\n"
     ]
    },
    {
     "name": "stdout",
     "output_type": "stream",
     "text": [
      "Negative pair count:  4556480\n",
      "Positive pair count:  19640\n",
      "score 1 (tpr@fpr=1e-05): 0.7427 score 2 (mean distance): 0.8237\n",
      "Step: [9100]\tCross entropy loss 5.938\n",
      "Step: [9200]\tCross entropy loss 5.915\n",
      "Step: [9300]\tCross entropy loss 5.901\n",
      "Step: [9400]\tCross entropy loss 5.931\n",
      "Step: [9500]\tCross entropy loss 5.902\n",
      "Step: [9600]\tCross entropy loss 5.896\n",
      "Step: [9700]\tCross entropy loss 5.889\n",
      "Step: [9800]\tCross entropy loss 5.894\n",
      "Step: [9900]\tCross entropy loss 5.907\n"
     ]
    },
    {
     "name": "stderr",
     "output_type": "stream",
     "text": [
      "  1%|          | 2/233 [00:00<00:11, 19.80it/s]"
     ]
    },
    {
     "name": "stdout",
     "output_type": "stream",
     "text": [
      "Step: [10000]\tCross entropy loss 5.865\n"
     ]
    },
    {
     "name": "stderr",
     "output_type": "stream",
     "text": [
      "100%|██████████| 233/233 [00:12<00:00, 18.99it/s]\n"
     ]
    },
    {
     "name": "stdout",
     "output_type": "stream",
     "text": [
      "Negative pair count:  4556480\n",
      "Positive pair count:  19640\n",
      "score 1 (tpr@fpr=1e-05): 0.7463 score 2 (mean distance): 0.8246\n"
     ]
    }
   ],
   "source": [
    "step = 0\n",
    "feed_dict = { __learning_rate: 0.01 }\n",
    "while step < 10000:\n",
    "    cross_entropy_loss, _, step = session.run([__cross_entropy_loss, __train_op, __global_step], \n",
    "                                               feed_dict=feed_dict)        \n",
    "    # Log info\n",
    "    if step % 100 == 0:\n",
    "        print('Step: [%d]\\tCross entropy loss %2.3f' % (step, cross_entropy_loss))\n",
    "        \n",
    "    if step % 1000 == 0:        \n",
    "        tpr, mean = evaluate(session, \n",
    "                     __embeddings, \n",
    "                     __gamma,                      \n",
    "                     person_set=dev_set, \n",
    "                     embeddings=dev_descr_arr,                     \n",
    "                     gt_embeddings=dev_gt_descr_arr, \n",
    "                     required_fpr=required_fpr)\n",
    "        print('score 1 (tpr@fpr={2}): {0:.4f} score 2 (mean distance): {1:.4f}'.format(tpr, mean, required_fpr))"
   ]
  },
  {
   "cell_type": "markdown",
   "metadata": {},
   "source": [
    "### Typically, after training tpr@fpr=1e-5 is in range 0.74...0.75. And this gave me 0.8166 on the [private leaderbord](https://competition.machinescansee.com/#/leaderboard/private)"
   ]
  }
 ],
 "metadata": {
  "kernelspec": {
   "display_name": "Python 3",
   "language": "python",
   "name": "python3"
  },
  "language_info": {
   "codemirror_mode": {
    "name": "ipython",
    "version": 3
   },
   "file_extension": ".py",
   "mimetype": "text/x-python",
   "name": "python",
   "nbconvert_exporter": "python",
   "pygments_lexer": "ipython3",
   "version": "3.6.8"
  }
 },
 "nbformat": 4,
 "nbformat_minor": 2
}
